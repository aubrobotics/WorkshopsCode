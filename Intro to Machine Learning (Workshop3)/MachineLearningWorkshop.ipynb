{
  "nbformat": 4,
  "nbformat_minor": 0,
  "metadata": {
    "colab": {
      "name": "MachineLearningWorkshop.ipynb",
      "provenance": [],
      "toc_visible": true
    },
    "kernelspec": {
      "name": "python3",
      "display_name": "Python 3"
    }
  },
  "cells": [
    {
      "cell_type": "markdown",
      "metadata": {
        "id": "jx8mPLohqoKA"
      },
      "source": [
        "# AUB ROBOTICS CLUB - Intro to Machine Learning Workshop "
      ]
    },
    {
      "cell_type": "markdown",
      "metadata": {
        "id": "ekpOpPH1q-FE"
      },
      "source": [
        "Fall 2020 -2021"
      ]
    },
    {
      "cell_type": "markdown",
      "metadata": {
        "id": "dreeQwb0rC7z"
      },
      "source": [
        "## **Supervised Learning Project**\n",
        "###Introduction to Linear Rgression \n",
        "###Credit Card Approvals: Prediction "
      ]
    },
    {
      "cell_type": "markdown",
      "metadata": {
        "id": "PvC41EO6rh1J"
      },
      "source": [
        "**Project Description:**\n",
        "*   Commercial banks receive a lot of applications for credit cards.\n",
        "*   Manually analyzing these applications is mundane, error-prone, and time-consuming\n",
        "*  In this project, you will build an automatic credit card approval predictor using machine learning techniques. (used in most of the banks)\n",
        "\n",
        "For this, we will first inspect the data, prerpocess it, split the data into train and test sets, fit the model, make predictions, improve the model's performance.\n",
        "\n",
        "Resources: UCI Machine Learning Repository \n",
        "\n",
        "\n",
        "\n",
        "\n"
      ]
    },
    {
      "cell_type": "markdown",
      "metadata": {
        "id": "rZV6YBe9tvcu"
      },
      "source": [
        "***1 - Loading and Viewing the Dataset***\n",
        "\n",
        "http://rstudio-pubs-static.s3.amazonaws.com/73039_9946de135c0a49daa7a0a9eda4a67a72.html"
      ]
    },
    {
      "cell_type": "code",
      "metadata": {
        "id": "vDCXlBq_tuaX",
        "outputId": "d730ad8c-cceb-4690-9426-010bad5c7b6b",
        "colab": {
          "base_uri": "https://localhost:8080/",
          "height": 204
        }
      },
      "source": [
        "#Import pandas\n",
        "import pandas as pd\n",
        "\n",
        "#Load the dataset\n",
        "cc_apps = pd.read_csv(\"crx.csv\",header = None)\n",
        "\n",
        "#Inspect the data\n",
        "cc_apps.head()"
      ],
      "execution_count": null,
      "outputs": [
        {
          "output_type": "execute_result",
          "data": {
            "text/html": [
              "<div>\n",
              "<style scoped>\n",
              "    .dataframe tbody tr th:only-of-type {\n",
              "        vertical-align: middle;\n",
              "    }\n",
              "\n",
              "    .dataframe tbody tr th {\n",
              "        vertical-align: top;\n",
              "    }\n",
              "\n",
              "    .dataframe thead th {\n",
              "        text-align: right;\n",
              "    }\n",
              "</style>\n",
              "<table border=\"1\" class=\"dataframe\">\n",
              "  <thead>\n",
              "    <tr style=\"text-align: right;\">\n",
              "      <th></th>\n",
              "      <th>0</th>\n",
              "      <th>1</th>\n",
              "      <th>2</th>\n",
              "      <th>3</th>\n",
              "      <th>4</th>\n",
              "      <th>5</th>\n",
              "      <th>6</th>\n",
              "      <th>7</th>\n",
              "      <th>8</th>\n",
              "      <th>9</th>\n",
              "      <th>10</th>\n",
              "      <th>11</th>\n",
              "      <th>12</th>\n",
              "      <th>13</th>\n",
              "      <th>14</th>\n",
              "      <th>15</th>\n",
              "    </tr>\n",
              "  </thead>\n",
              "  <tbody>\n",
              "    <tr>\n",
              "      <th>0</th>\n",
              "      <td>b</td>\n",
              "      <td>30.83</td>\n",
              "      <td>0.000</td>\n",
              "      <td>u</td>\n",
              "      <td>g</td>\n",
              "      <td>w</td>\n",
              "      <td>v</td>\n",
              "      <td>1.25</td>\n",
              "      <td>t</td>\n",
              "      <td>t</td>\n",
              "      <td>1</td>\n",
              "      <td>f</td>\n",
              "      <td>g</td>\n",
              "      <td>00202</td>\n",
              "      <td>0</td>\n",
              "      <td>+</td>\n",
              "    </tr>\n",
              "    <tr>\n",
              "      <th>1</th>\n",
              "      <td>a</td>\n",
              "      <td>58.67</td>\n",
              "      <td>4.460</td>\n",
              "      <td>u</td>\n",
              "      <td>g</td>\n",
              "      <td>q</td>\n",
              "      <td>h</td>\n",
              "      <td>3.04</td>\n",
              "      <td>t</td>\n",
              "      <td>t</td>\n",
              "      <td>6</td>\n",
              "      <td>f</td>\n",
              "      <td>g</td>\n",
              "      <td>00043</td>\n",
              "      <td>560</td>\n",
              "      <td>+</td>\n",
              "    </tr>\n",
              "    <tr>\n",
              "      <th>2</th>\n",
              "      <td>a</td>\n",
              "      <td>24.50</td>\n",
              "      <td>0.500</td>\n",
              "      <td>u</td>\n",
              "      <td>g</td>\n",
              "      <td>q</td>\n",
              "      <td>h</td>\n",
              "      <td>1.50</td>\n",
              "      <td>t</td>\n",
              "      <td>f</td>\n",
              "      <td>0</td>\n",
              "      <td>f</td>\n",
              "      <td>g</td>\n",
              "      <td>00280</td>\n",
              "      <td>824</td>\n",
              "      <td>+</td>\n",
              "    </tr>\n",
              "    <tr>\n",
              "      <th>3</th>\n",
              "      <td>b</td>\n",
              "      <td>27.83</td>\n",
              "      <td>1.540</td>\n",
              "      <td>u</td>\n",
              "      <td>g</td>\n",
              "      <td>w</td>\n",
              "      <td>v</td>\n",
              "      <td>3.75</td>\n",
              "      <td>t</td>\n",
              "      <td>t</td>\n",
              "      <td>5</td>\n",
              "      <td>t</td>\n",
              "      <td>g</td>\n",
              "      <td>00100</td>\n",
              "      <td>3</td>\n",
              "      <td>+</td>\n",
              "    </tr>\n",
              "    <tr>\n",
              "      <th>4</th>\n",
              "      <td>b</td>\n",
              "      <td>20.17</td>\n",
              "      <td>5.625</td>\n",
              "      <td>u</td>\n",
              "      <td>g</td>\n",
              "      <td>w</td>\n",
              "      <td>v</td>\n",
              "      <td>1.71</td>\n",
              "      <td>t</td>\n",
              "      <td>f</td>\n",
              "      <td>0</td>\n",
              "      <td>f</td>\n",
              "      <td>s</td>\n",
              "      <td>00120</td>\n",
              "      <td>0</td>\n",
              "      <td>+</td>\n",
              "    </tr>\n",
              "  </tbody>\n",
              "</table>\n",
              "</div>"
            ],
            "text/plain": [
              "  0      1      2  3  4  5  6     7  8  9   10 11 12     13   14 15\n",
              "0  b  30.83  0.000  u  g  w  v  1.25  t  t   1  f  g  00202    0  +\n",
              "1  a  58.67  4.460  u  g  q  h  3.04  t  t   6  f  g  00043  560  +\n",
              "2  a  24.50  0.500  u  g  q  h  1.50  t  f   0  f  g  00280  824  +\n",
              "3  b  27.83  1.540  u  g  w  v  3.75  t  t   5  t  g  00100    3  +\n",
              "4  b  20.17  5.625  u  g  w  v  1.71  t  f   0  f  s  00120    0  +"
            ]
          },
          "metadata": {
            "tags": []
          },
          "execution_count": 1
        }
      ]
    },
    {
      "cell_type": "markdown",
      "metadata": {
        "id": "Qsle9CeRv9tY"
      },
      "source": [
        "Probabl features: Gender, Age, Debt, Married, BankCustomer, EducationLevel, Ethnicity, YearsEmployed, PriorDefault, Employed, CreditScore, DriversLicense, Citizen, ZipCode, Income and finally the ApprovalStatus.\n",
        "\n",
        "**2 - Inspect the data**\n"
      ]
    },
    {
      "cell_type": "code",
      "metadata": {
        "id": "LLwEjl2ow2Ec",
        "outputId": "1e9bc431-3931-4035-aa3b-e8ff15ab5b5f",
        "colab": {
          "base_uri": "https://localhost:8080/",
          "height": 1000
        }
      },
      "source": [
        "# Print summary statistics\n",
        "cc_apps_description = cc_apps.describe()\n",
        "print(cc_apps_description)\n",
        "\n",
        "print(\"\\n\")\n",
        "\n",
        "# Print DataFrame information\n",
        "cc_apps_info = cc_apps.info()\n",
        "print(cc_apps_info)\n",
        "\n",
        "print(\"\\n\")\n",
        "\n",
        "# Inspect missing values in the dataset\n",
        "cc_apps.tail(17)\n"
      ],
      "execution_count": null,
      "outputs": [
        {
          "output_type": "stream",
          "text": [
            "               2           7          10             14\n",
            "count  690.000000  690.000000  690.00000     690.000000\n",
            "mean     4.758725    2.223406    2.40000    1017.385507\n",
            "std      4.978163    3.346513    4.86294    5210.102598\n",
            "min      0.000000    0.000000    0.00000       0.000000\n",
            "25%      1.000000    0.165000    0.00000       0.000000\n",
            "50%      2.750000    1.000000    0.00000       5.000000\n",
            "75%      7.207500    2.625000    3.00000     395.500000\n",
            "max     28.000000   28.500000   67.00000  100000.000000\n",
            "\n",
            "\n",
            "<class 'pandas.core.frame.DataFrame'>\n",
            "RangeIndex: 690 entries, 0 to 689\n",
            "Data columns (total 16 columns):\n",
            " #   Column  Non-Null Count  Dtype  \n",
            "---  ------  --------------  -----  \n",
            " 0   0       690 non-null    object \n",
            " 1   1       690 non-null    object \n",
            " 2   2       690 non-null    float64\n",
            " 3   3       690 non-null    object \n",
            " 4   4       690 non-null    object \n",
            " 5   5       690 non-null    object \n",
            " 6   6       690 non-null    object \n",
            " 7   7       690 non-null    float64\n",
            " 8   8       690 non-null    object \n",
            " 9   9       690 non-null    object \n",
            " 10  10      690 non-null    int64  \n",
            " 11  11      690 non-null    object \n",
            " 12  12      690 non-null    object \n",
            " 13  13      690 non-null    object \n",
            " 14  14      690 non-null    int64  \n",
            " 15  15      690 non-null    object \n",
            "dtypes: float64(2), int64(2), object(12)\n",
            "memory usage: 86.4+ KB\n",
            "None\n",
            "\n",
            "\n"
          ],
          "name": "stdout"
        },
        {
          "output_type": "execute_result",
          "data": {
            "text/html": [
              "<div>\n",
              "<style scoped>\n",
              "    .dataframe tbody tr th:only-of-type {\n",
              "        vertical-align: middle;\n",
              "    }\n",
              "\n",
              "    .dataframe tbody tr th {\n",
              "        vertical-align: top;\n",
              "    }\n",
              "\n",
              "    .dataframe thead th {\n",
              "        text-align: right;\n",
              "    }\n",
              "</style>\n",
              "<table border=\"1\" class=\"dataframe\">\n",
              "  <thead>\n",
              "    <tr style=\"text-align: right;\">\n",
              "      <th></th>\n",
              "      <th>0</th>\n",
              "      <th>1</th>\n",
              "      <th>2</th>\n",
              "      <th>3</th>\n",
              "      <th>4</th>\n",
              "      <th>5</th>\n",
              "      <th>6</th>\n",
              "      <th>7</th>\n",
              "      <th>8</th>\n",
              "      <th>9</th>\n",
              "      <th>10</th>\n",
              "      <th>11</th>\n",
              "      <th>12</th>\n",
              "      <th>13</th>\n",
              "      <th>14</th>\n",
              "      <th>15</th>\n",
              "    </tr>\n",
              "  </thead>\n",
              "  <tbody>\n",
              "    <tr>\n",
              "      <th>673</th>\n",
              "      <td>?</td>\n",
              "      <td>29.50</td>\n",
              "      <td>2.000</td>\n",
              "      <td>y</td>\n",
              "      <td>p</td>\n",
              "      <td>e</td>\n",
              "      <td>h</td>\n",
              "      <td>2.000</td>\n",
              "      <td>f</td>\n",
              "      <td>f</td>\n",
              "      <td>0</td>\n",
              "      <td>f</td>\n",
              "      <td>g</td>\n",
              "      <td>00256</td>\n",
              "      <td>17</td>\n",
              "      <td>-</td>\n",
              "    </tr>\n",
              "    <tr>\n",
              "      <th>674</th>\n",
              "      <td>a</td>\n",
              "      <td>37.33</td>\n",
              "      <td>2.500</td>\n",
              "      <td>u</td>\n",
              "      <td>g</td>\n",
              "      <td>i</td>\n",
              "      <td>h</td>\n",
              "      <td>0.210</td>\n",
              "      <td>f</td>\n",
              "      <td>f</td>\n",
              "      <td>0</td>\n",
              "      <td>f</td>\n",
              "      <td>g</td>\n",
              "      <td>00260</td>\n",
              "      <td>246</td>\n",
              "      <td>-</td>\n",
              "    </tr>\n",
              "    <tr>\n",
              "      <th>675</th>\n",
              "      <td>a</td>\n",
              "      <td>41.58</td>\n",
              "      <td>1.040</td>\n",
              "      <td>u</td>\n",
              "      <td>g</td>\n",
              "      <td>aa</td>\n",
              "      <td>v</td>\n",
              "      <td>0.665</td>\n",
              "      <td>f</td>\n",
              "      <td>f</td>\n",
              "      <td>0</td>\n",
              "      <td>f</td>\n",
              "      <td>g</td>\n",
              "      <td>00240</td>\n",
              "      <td>237</td>\n",
              "      <td>-</td>\n",
              "    </tr>\n",
              "    <tr>\n",
              "      <th>676</th>\n",
              "      <td>a</td>\n",
              "      <td>30.58</td>\n",
              "      <td>10.665</td>\n",
              "      <td>u</td>\n",
              "      <td>g</td>\n",
              "      <td>q</td>\n",
              "      <td>h</td>\n",
              "      <td>0.085</td>\n",
              "      <td>f</td>\n",
              "      <td>t</td>\n",
              "      <td>12</td>\n",
              "      <td>t</td>\n",
              "      <td>g</td>\n",
              "      <td>00129</td>\n",
              "      <td>3</td>\n",
              "      <td>-</td>\n",
              "    </tr>\n",
              "    <tr>\n",
              "      <th>677</th>\n",
              "      <td>b</td>\n",
              "      <td>19.42</td>\n",
              "      <td>7.250</td>\n",
              "      <td>u</td>\n",
              "      <td>g</td>\n",
              "      <td>m</td>\n",
              "      <td>v</td>\n",
              "      <td>0.040</td>\n",
              "      <td>f</td>\n",
              "      <td>t</td>\n",
              "      <td>1</td>\n",
              "      <td>f</td>\n",
              "      <td>g</td>\n",
              "      <td>00100</td>\n",
              "      <td>1</td>\n",
              "      <td>-</td>\n",
              "    </tr>\n",
              "    <tr>\n",
              "      <th>678</th>\n",
              "      <td>a</td>\n",
              "      <td>17.92</td>\n",
              "      <td>10.210</td>\n",
              "      <td>u</td>\n",
              "      <td>g</td>\n",
              "      <td>ff</td>\n",
              "      <td>ff</td>\n",
              "      <td>0.000</td>\n",
              "      <td>f</td>\n",
              "      <td>f</td>\n",
              "      <td>0</td>\n",
              "      <td>f</td>\n",
              "      <td>g</td>\n",
              "      <td>00000</td>\n",
              "      <td>50</td>\n",
              "      <td>-</td>\n",
              "    </tr>\n",
              "    <tr>\n",
              "      <th>679</th>\n",
              "      <td>a</td>\n",
              "      <td>20.08</td>\n",
              "      <td>1.250</td>\n",
              "      <td>u</td>\n",
              "      <td>g</td>\n",
              "      <td>c</td>\n",
              "      <td>v</td>\n",
              "      <td>0.000</td>\n",
              "      <td>f</td>\n",
              "      <td>f</td>\n",
              "      <td>0</td>\n",
              "      <td>f</td>\n",
              "      <td>g</td>\n",
              "      <td>00000</td>\n",
              "      <td>0</td>\n",
              "      <td>-</td>\n",
              "    </tr>\n",
              "    <tr>\n",
              "      <th>680</th>\n",
              "      <td>b</td>\n",
              "      <td>19.50</td>\n",
              "      <td>0.290</td>\n",
              "      <td>u</td>\n",
              "      <td>g</td>\n",
              "      <td>k</td>\n",
              "      <td>v</td>\n",
              "      <td>0.290</td>\n",
              "      <td>f</td>\n",
              "      <td>f</td>\n",
              "      <td>0</td>\n",
              "      <td>f</td>\n",
              "      <td>g</td>\n",
              "      <td>00280</td>\n",
              "      <td>364</td>\n",
              "      <td>-</td>\n",
              "    </tr>\n",
              "    <tr>\n",
              "      <th>681</th>\n",
              "      <td>b</td>\n",
              "      <td>27.83</td>\n",
              "      <td>1.000</td>\n",
              "      <td>y</td>\n",
              "      <td>p</td>\n",
              "      <td>d</td>\n",
              "      <td>h</td>\n",
              "      <td>3.000</td>\n",
              "      <td>f</td>\n",
              "      <td>f</td>\n",
              "      <td>0</td>\n",
              "      <td>f</td>\n",
              "      <td>g</td>\n",
              "      <td>00176</td>\n",
              "      <td>537</td>\n",
              "      <td>-</td>\n",
              "    </tr>\n",
              "    <tr>\n",
              "      <th>682</th>\n",
              "      <td>b</td>\n",
              "      <td>17.08</td>\n",
              "      <td>3.290</td>\n",
              "      <td>u</td>\n",
              "      <td>g</td>\n",
              "      <td>i</td>\n",
              "      <td>v</td>\n",
              "      <td>0.335</td>\n",
              "      <td>f</td>\n",
              "      <td>f</td>\n",
              "      <td>0</td>\n",
              "      <td>t</td>\n",
              "      <td>g</td>\n",
              "      <td>00140</td>\n",
              "      <td>2</td>\n",
              "      <td>-</td>\n",
              "    </tr>\n",
              "    <tr>\n",
              "      <th>683</th>\n",
              "      <td>b</td>\n",
              "      <td>36.42</td>\n",
              "      <td>0.750</td>\n",
              "      <td>y</td>\n",
              "      <td>p</td>\n",
              "      <td>d</td>\n",
              "      <td>v</td>\n",
              "      <td>0.585</td>\n",
              "      <td>f</td>\n",
              "      <td>f</td>\n",
              "      <td>0</td>\n",
              "      <td>f</td>\n",
              "      <td>g</td>\n",
              "      <td>00240</td>\n",
              "      <td>3</td>\n",
              "      <td>-</td>\n",
              "    </tr>\n",
              "    <tr>\n",
              "      <th>684</th>\n",
              "      <td>b</td>\n",
              "      <td>40.58</td>\n",
              "      <td>3.290</td>\n",
              "      <td>u</td>\n",
              "      <td>g</td>\n",
              "      <td>m</td>\n",
              "      <td>v</td>\n",
              "      <td>3.500</td>\n",
              "      <td>f</td>\n",
              "      <td>f</td>\n",
              "      <td>0</td>\n",
              "      <td>t</td>\n",
              "      <td>s</td>\n",
              "      <td>00400</td>\n",
              "      <td>0</td>\n",
              "      <td>-</td>\n",
              "    </tr>\n",
              "    <tr>\n",
              "      <th>685</th>\n",
              "      <td>b</td>\n",
              "      <td>21.08</td>\n",
              "      <td>10.085</td>\n",
              "      <td>y</td>\n",
              "      <td>p</td>\n",
              "      <td>e</td>\n",
              "      <td>h</td>\n",
              "      <td>1.250</td>\n",
              "      <td>f</td>\n",
              "      <td>f</td>\n",
              "      <td>0</td>\n",
              "      <td>f</td>\n",
              "      <td>g</td>\n",
              "      <td>00260</td>\n",
              "      <td>0</td>\n",
              "      <td>-</td>\n",
              "    </tr>\n",
              "    <tr>\n",
              "      <th>686</th>\n",
              "      <td>a</td>\n",
              "      <td>22.67</td>\n",
              "      <td>0.750</td>\n",
              "      <td>u</td>\n",
              "      <td>g</td>\n",
              "      <td>c</td>\n",
              "      <td>v</td>\n",
              "      <td>2.000</td>\n",
              "      <td>f</td>\n",
              "      <td>t</td>\n",
              "      <td>2</td>\n",
              "      <td>t</td>\n",
              "      <td>g</td>\n",
              "      <td>00200</td>\n",
              "      <td>394</td>\n",
              "      <td>-</td>\n",
              "    </tr>\n",
              "    <tr>\n",
              "      <th>687</th>\n",
              "      <td>a</td>\n",
              "      <td>25.25</td>\n",
              "      <td>13.500</td>\n",
              "      <td>y</td>\n",
              "      <td>p</td>\n",
              "      <td>ff</td>\n",
              "      <td>ff</td>\n",
              "      <td>2.000</td>\n",
              "      <td>f</td>\n",
              "      <td>t</td>\n",
              "      <td>1</td>\n",
              "      <td>t</td>\n",
              "      <td>g</td>\n",
              "      <td>00200</td>\n",
              "      <td>1</td>\n",
              "      <td>-</td>\n",
              "    </tr>\n",
              "    <tr>\n",
              "      <th>688</th>\n",
              "      <td>b</td>\n",
              "      <td>17.92</td>\n",
              "      <td>0.205</td>\n",
              "      <td>u</td>\n",
              "      <td>g</td>\n",
              "      <td>aa</td>\n",
              "      <td>v</td>\n",
              "      <td>0.040</td>\n",
              "      <td>f</td>\n",
              "      <td>f</td>\n",
              "      <td>0</td>\n",
              "      <td>f</td>\n",
              "      <td>g</td>\n",
              "      <td>00280</td>\n",
              "      <td>750</td>\n",
              "      <td>-</td>\n",
              "    </tr>\n",
              "    <tr>\n",
              "      <th>689</th>\n",
              "      <td>b</td>\n",
              "      <td>35.00</td>\n",
              "      <td>3.375</td>\n",
              "      <td>u</td>\n",
              "      <td>g</td>\n",
              "      <td>c</td>\n",
              "      <td>h</td>\n",
              "      <td>8.290</td>\n",
              "      <td>f</td>\n",
              "      <td>f</td>\n",
              "      <td>0</td>\n",
              "      <td>t</td>\n",
              "      <td>g</td>\n",
              "      <td>00000</td>\n",
              "      <td>0</td>\n",
              "      <td>-</td>\n",
              "    </tr>\n",
              "  </tbody>\n",
              "</table>\n",
              "</div>"
            ],
            "text/plain": [
              "    0      1       2  3  4   5   6      7  8  9   10 11 12     13   14 15\n",
              "673  ?  29.50   2.000  y  p   e   h  2.000  f  f   0  f  g  00256   17  -\n",
              "674  a  37.33   2.500  u  g   i   h  0.210  f  f   0  f  g  00260  246  -\n",
              "675  a  41.58   1.040  u  g  aa   v  0.665  f  f   0  f  g  00240  237  -\n",
              "676  a  30.58  10.665  u  g   q   h  0.085  f  t  12  t  g  00129    3  -\n",
              "677  b  19.42   7.250  u  g   m   v  0.040  f  t   1  f  g  00100    1  -\n",
              "678  a  17.92  10.210  u  g  ff  ff  0.000  f  f   0  f  g  00000   50  -\n",
              "679  a  20.08   1.250  u  g   c   v  0.000  f  f   0  f  g  00000    0  -\n",
              "680  b  19.50   0.290  u  g   k   v  0.290  f  f   0  f  g  00280  364  -\n",
              "681  b  27.83   1.000  y  p   d   h  3.000  f  f   0  f  g  00176  537  -\n",
              "682  b  17.08   3.290  u  g   i   v  0.335  f  f   0  t  g  00140    2  -\n",
              "683  b  36.42   0.750  y  p   d   v  0.585  f  f   0  f  g  00240    3  -\n",
              "684  b  40.58   3.290  u  g   m   v  3.500  f  f   0  t  s  00400    0  -\n",
              "685  b  21.08  10.085  y  p   e   h  1.250  f  f   0  f  g  00260    0  -\n",
              "686  a  22.67   0.750  u  g   c   v  2.000  f  t   2  t  g  00200  394  -\n",
              "687  a  25.25  13.500  y  p  ff  ff  2.000  f  t   1  t  g  00200    1  -\n",
              "688  b  17.92   0.205  u  g  aa   v  0.040  f  f   0  f  g  00280  750  -\n",
              "689  b  35.00   3.375  u  g   c   h  8.290  f  f   0  t  g  00000    0  -"
            ]
          },
          "metadata": {
            "tags": []
          },
          "execution_count": 2
        }
      ]
    },
    {
      "cell_type": "markdown",
      "metadata": {
        "id": "JNSj72o4xkvT"
      },
      "source": [
        "**3 - Preprocessing**\n",
        "\n",
        "- Handle the missing data\n",
        "\n"
      ]
    },
    {
      "cell_type": "code",
      "metadata": {
        "id": "YUQ_ykyLzDBw",
        "outputId": "a8d03097-5996-46d4-cd2f-9283c7a151b1",
        "colab": {
          "base_uri": "https://localhost:8080/"
        }
      },
      "source": [
        "#Remark that we have non-numeric and numeric data in the dataset\n",
        "#The numeric values are from different ranges\n",
        "#We have missing values \n",
        "#These can affect our model \n",
        "\n",
        "#First deal with the missing values\n",
        "# Import numpy\n",
        "import numpy as np \n",
        "\n",
        "# Inspect missing values in the dataset\n",
        "print(cc_apps.tail(17))\n",
        "\n",
        "\n",
        "# Replace the '?'s with NaN\n",
        "cc_apps = cc_apps.replace(to_replace = '?', value = np.nan)\n",
        "\n",
        "# Inspect the missing values again\n",
        "cc_apps.tail(17)\n",
        "\n",
        "#Impute the missing values with mean imputation\n",
        "cc_apps.fillna(cc_apps.mean(), inplace=True)\n",
        "\n",
        "#Count the number of NaNs in the dataset for verification\n",
        "print(cc_apps.isna().sum().sum())\n",
        "\n",
        "# Iterate over each column of cc_apps\n",
        "for col in cc_apps:\n",
        "    # Check if the column is of object type\n",
        "    if cc_apps[col].dtypes == 'object':\n",
        "        # Impute with the most frequent value\n",
        "        cc_apps = cc_apps.fillna(cc_apps[col].value_counts().index[0])\n",
        "\n",
        "# Count the number of NaNs in the dataset and print the counts to verify\n",
        "print(cc_apps.isna().sum().sum())"
      ],
      "execution_count": null,
      "outputs": [
        {
          "output_type": "stream",
          "text": [
            "    0      1       2  3  4   5   6      7  8  9   10 11 12     13   14 15\n",
            "673  ?  29.50   2.000  y  p   e   h  2.000  f  f   0  f  g  00256   17  -\n",
            "674  a  37.33   2.500  u  g   i   h  0.210  f  f   0  f  g  00260  246  -\n",
            "675  a  41.58   1.040  u  g  aa   v  0.665  f  f   0  f  g  00240  237  -\n",
            "676  a  30.58  10.665  u  g   q   h  0.085  f  t  12  t  g  00129    3  -\n",
            "677  b  19.42   7.250  u  g   m   v  0.040  f  t   1  f  g  00100    1  -\n",
            "678  a  17.92  10.210  u  g  ff  ff  0.000  f  f   0  f  g  00000   50  -\n",
            "679  a  20.08   1.250  u  g   c   v  0.000  f  f   0  f  g  00000    0  -\n",
            "680  b  19.50   0.290  u  g   k   v  0.290  f  f   0  f  g  00280  364  -\n",
            "681  b  27.83   1.000  y  p   d   h  3.000  f  f   0  f  g  00176  537  -\n",
            "682  b  17.08   3.290  u  g   i   v  0.335  f  f   0  t  g  00140    2  -\n",
            "683  b  36.42   0.750  y  p   d   v  0.585  f  f   0  f  g  00240    3  -\n",
            "684  b  40.58   3.290  u  g   m   v  3.500  f  f   0  t  s  00400    0  -\n",
            "685  b  21.08  10.085  y  p   e   h  1.250  f  f   0  f  g  00260    0  -\n",
            "686  a  22.67   0.750  u  g   c   v  2.000  f  t   2  t  g  00200  394  -\n",
            "687  a  25.25  13.500  y  p  ff  ff  2.000  f  t   1  t  g  00200    1  -\n",
            "688  b  17.92   0.205  u  g  aa   v  0.040  f  f   0  f  g  00280  750  -\n",
            "689  b  35.00   3.375  u  g   c   h  8.290  f  f   0  t  g  00000    0  -\n",
            "67\n",
            "0\n"
          ],
          "name": "stdout"
        }
      ]
    },
    {
      "cell_type": "markdown",
      "metadata": {
        "id": "JdT1HVhD6SL6"
      },
      "source": [
        "- preprocess the data \n"
      ]
    },
    {
      "cell_type": "code",
      "metadata": {
        "id": "4biv-4wW6VHn"
      },
      "source": [
        "# Import LabelEncoder\n",
        "from sklearn.preprocessing import LabelEncoder\n",
        "\n",
        "# Instantiate LabelEncoder\n",
        "le = LabelEncoder()\n",
        "\n",
        "# Iterate over all the values of each column and extract their dtypes\n",
        "for col in cc_apps:\n",
        "    # Compare if the dtype is object\n",
        "    if cc_apps[col].dtypes=='object':\n",
        "    # Use LabelEncoder to do the numeric transformation\n",
        "        cc_apps[col]=le.fit_transform(cc_apps[col])"
      ],
      "execution_count": null,
      "outputs": []
    },
    {
      "cell_type": "markdown",
      "metadata": {
        "id": "UaHKh9MT7Xl9"
      },
      "source": [
        "**4- Splitting the dataset into train and test data**"
      ]
    },
    {
      "cell_type": "code",
      "metadata": {
        "id": "XcXDvqzQ7fi4"
      },
      "source": [
        "# Import train_test_split\n",
        "from sklearn.model_selection import train_test_split\n",
        "\n",
        "# Drop the features 11 and 13 and convert the DataFrame to a NumPy array\n",
        "cc_apps = cc_apps.drop([11, 13], axis=1)\n",
        "cc_apps = cc_apps.values\n",
        "\n",
        "# Segregate features and labels into separate variables\n",
        "X,y = cc_apps[:,0:] , cc_apps[:,13]\n",
        "\n",
        "# Split into train and test sets\n",
        "X_train, X_test, y_train, y_test = train_test_split(X,\n",
        "                                y,\n",
        "                                test_size= 0.33,\n",
        "                                random_state= 42)\n",
        "\n",
        "#Preprocess for scaling \n",
        "# Import MinMaxScaler\n",
        "from sklearn.preprocessing import MinMaxScaler\n",
        "\n",
        "# Instantiate MinMaxScaler and use it to rescale X_train and X_test\n",
        "scaler = MinMaxScaler(feature_range=(0, 1))\n",
        "rescaledX_train = scaler.fit_transform(X_train)\n",
        "rescaledX_test = scaler.fit_transform(X_test)"
      ],
      "execution_count": null,
      "outputs": []
    },
    {
      "cell_type": "markdown",
      "metadata": {
        "id": "omKVxIXR-hUq"
      },
      "source": [
        "**5-Fitting a logistic regression model to the train set**"
      ]
    },
    {
      "cell_type": "code",
      "metadata": {
        "id": "68-pYF8m-p57"
      },
      "source": [
        "# Import LogisticRegression\n",
        "from sklearn.linear_model import LogisticRegression\n",
        "\n",
        "# Instantiate a LogisticRegression classifier with default parameter values\n",
        "logreg = LogisticRegression()\n",
        "\n",
        "# Fit logreg to the train set\n",
        "logreg.fit(rescaledX_train,y_train)\n",
        "\n",
        "# Use logreg to predict instances from the test set and store it\n",
        "y_pred = logreg.predict(rescaledX_test)"
      ],
      "execution_count": null,
      "outputs": []
    },
    {
      "cell_type": "markdown",
      "metadata": {
        "id": "P50fi_Bn-zIm"
      },
      "source": [
        "**6- Making predictions and evaluating performance**"
      ]
    },
    {
      "cell_type": "code",
      "metadata": {
        "id": "Ycj_3XCi-5_S",
        "outputId": "6c5e3eac-c2ee-4674-944d-83576e211382",
        "colab": {
          "base_uri": "https://localhost:8080/"
        }
      },
      "source": [
        "# Import confusion_matrix\n",
        "from sklearn.metrics import confusion_matrix\n",
        "\n",
        "# Use logreg to predict instances from the test set and store it\n",
        "y_pred = logreg.predict(rescaledX_test)\n",
        "\n",
        "# Get the accuracy score of logreg model and print it\n",
        "print(\"Accuracy of logistic regression classifier: \", logreg.score(rescaledX_test,y_test))\n",
        "\n",
        "# Print the confusion matrix of the logreg model\n",
        "confusion_matrix(y_test,y_pred)"
      ],
      "execution_count": null,
      "outputs": [
        {
          "output_type": "stream",
          "text": [
            "Accuracy of logistic regression classifier:  1.0\n"
          ],
          "name": "stdout"
        },
        {
          "output_type": "execute_result",
          "data": {
            "text/plain": [
              "array([[103,   0],\n",
              "       [  0, 125]])"
            ]
          },
          "metadata": {
            "tags": []
          },
          "execution_count": 7
        }
      ]
    },
    {
      "cell_type": "markdown",
      "metadata": {
        "id": "28VAzhAL_96r"
      },
      "source": [
        "** 7 - Making the model perform better**"
      ]
    },
    {
      "cell_type": "code",
      "metadata": {
        "id": "eYv1ZXM2AE0M",
        "outputId": "5bc00f46-2368-4467-9ae5-7d559e99a393",
        "colab": {
          "base_uri": "https://localhost:8080/"
        }
      },
      "source": [
        "# Import GridSearchCV\n",
        "from sklearn.model_selection import GridSearchCV\n",
        "\n",
        "# Define the grid of values for tol and max_iter\n",
        "tol = [0.01,0.001,0.0001]\n",
        "max_iter = [100,150,200]\n",
        "\n",
        "# Create a dictionary where tol and max_iter are keys and the lists of their values are corresponding values\n",
        "param_grid = dict(tol = tol, max_iter = max_iter)\n",
        "\n",
        "# Instantiate GridSearchCV with the required parameters\n",
        "grid_model = GridSearchCV(estimator = logreg, param_grid= param_grid, cv=5)\n",
        "\n",
        "# Use scaler to rescale X and assign it to rescaledX\n",
        "rescaledX = scaler.fit_transform(X)\n",
        "\n",
        "# Fit data to grid_model\n",
        "grid_model_result = grid_model.fit(rescaledX,y)\n",
        "\n",
        "# Summarize results\n",
        "best_score, best_params = grid_model_result.best_score_,  grid_model_result.best_params_\n",
        "print(\"Best: %f using %s\" % (best_score, best_params))\n"
      ],
      "execution_count": null,
      "outputs": [
        {
          "output_type": "stream",
          "text": [
            "Best: 1.000000 using {'max_iter': 100, 'tol': 0.01}\n"
          ],
          "name": "stdout"
        }
      ]
    },
    {
      "cell_type": "markdown",
      "metadata": {
        "id": "c9_DBPIUEGfc"
      },
      "source": [
        "## **Unsupervised Learning Project**\n",
        "##Reducing Traffic Mortality \n",
        "\n",
        "USA Dataset\n"
      ]
    },
    {
      "cell_type": "markdown",
      "metadata": {
        "id": "zDGyjkpUWIC5"
      },
      "source": [
        "**Project Description**\n",
        "- Increase in the number of fatal accidents daths\n",
        "- Find a strategy to reduce road accidents\n",
        "- We focus n USA since we have clear dataset\n",
        "- Understand if there is any pattern \n",
        "- Derive suggestions for policy action plan\n",
        "\n",
        "-Use of unsupervised clustering\n",
        "Resources: https://github.com/fivethirtyeight/data.git\n"
      ]
    },
    {
      "cell_type": "markdown",
      "metadata": {
        "id": "5kmdZ1rnYYtW"
      },
      "source": [
        " **1 - Inspect the data**"
      ]
    },
    {
      "cell_type": "code",
      "metadata": {
        "id": "7KYnuQdzWCE3",
        "outputId": "81836f30-8756-4bf2-c85d-3de8098a100c",
        "colab": {
          "base_uri": "https://localhost:8080/",
          "height": 578
        }
      },
      "source": [
        "# Import the `pandas` module as \"pd\"\n",
        "import pandas as pd\n",
        "\n",
        "# Read in `bad-drivers.csv`\n",
        "car_acc = pd.read_csv(\"bad-drivers.csv\")\n",
        "\n",
        "# Save the number of rows columns as a tuple\n",
        "rows_and_cols = car_acc.shape\n",
        "print('There are {} rows and {} columns.\\n'.format(\n",
        "    rows_and_cols[0], rows_and_cols[1]))\n",
        "\n",
        "# Generate an overview of the DataFrame\n",
        "car_acc_information = car_acc.info()\n",
        "print(car_acc_information)\n",
        "\n",
        "# Display the last five rows of the DataFrame\n",
        "car_acc.tail()"
      ],
      "execution_count": 11,
      "outputs": [
        {
          "output_type": "stream",
          "text": [
            "There are 51 rows and 8 columns.\n",
            "\n",
            "<class 'pandas.core.frame.DataFrame'>\n",
            "RangeIndex: 51 entries, 0 to 50\n",
            "Data columns (total 8 columns):\n",
            " #   Column                                                                                                  Non-Null Count  Dtype  \n",
            "---  ------                                                                                                  --------------  -----  \n",
            " 0   State                                                                                                   51 non-null     object \n",
            " 1   Number of drivers involved in fatal collisions per billion miles                                        51 non-null     float64\n",
            " 2   Percentage Of Drivers Involved In Fatal Collisions Who Were Speeding                                    51 non-null     int64  \n",
            " 3   Percentage Of Drivers Involved In Fatal Collisions Who Were Alcohol-Impaired                            51 non-null     int64  \n",
            " 4   Percentage Of Drivers Involved In Fatal Collisions Who Were Not Distracted                              51 non-null     int64  \n",
            " 5   Percentage Of Drivers Involved In Fatal Collisions Who Had Not Been Involved In Any Previous Accidents  51 non-null     int64  \n",
            " 6   Car Insurance Premiums ($)                                                                              51 non-null     float64\n",
            " 7   Losses incurred by insurance companies for collisions per insured driver ($)                            51 non-null     float64\n",
            "dtypes: float64(3), int64(4), object(1)\n",
            "memory usage: 3.3+ KB\n",
            "None\n"
          ],
          "name": "stdout"
        },
        {
          "output_type": "execute_result",
          "data": {
            "text/html": [
              "<div>\n",
              "<style scoped>\n",
              "    .dataframe tbody tr th:only-of-type {\n",
              "        vertical-align: middle;\n",
              "    }\n",
              "\n",
              "    .dataframe tbody tr th {\n",
              "        vertical-align: top;\n",
              "    }\n",
              "\n",
              "    .dataframe thead th {\n",
              "        text-align: right;\n",
              "    }\n",
              "</style>\n",
              "<table border=\"1\" class=\"dataframe\">\n",
              "  <thead>\n",
              "    <tr style=\"text-align: right;\">\n",
              "      <th></th>\n",
              "      <th>State</th>\n",
              "      <th>Number of drivers involved in fatal collisions per billion miles</th>\n",
              "      <th>Percentage Of Drivers Involved In Fatal Collisions Who Were Speeding</th>\n",
              "      <th>Percentage Of Drivers Involved In Fatal Collisions Who Were Alcohol-Impaired</th>\n",
              "      <th>Percentage Of Drivers Involved In Fatal Collisions Who Were Not Distracted</th>\n",
              "      <th>Percentage Of Drivers Involved In Fatal Collisions Who Had Not Been Involved In Any Previous Accidents</th>\n",
              "      <th>Car Insurance Premiums ($)</th>\n",
              "      <th>Losses incurred by insurance companies for collisions per insured driver ($)</th>\n",
              "    </tr>\n",
              "  </thead>\n",
              "  <tbody>\n",
              "    <tr>\n",
              "      <th>46</th>\n",
              "      <td>Virginia</td>\n",
              "      <td>12.7</td>\n",
              "      <td>19</td>\n",
              "      <td>27</td>\n",
              "      <td>87</td>\n",
              "      <td>88</td>\n",
              "      <td>768.95</td>\n",
              "      <td>153.72</td>\n",
              "    </tr>\n",
              "    <tr>\n",
              "      <th>47</th>\n",
              "      <td>Washington</td>\n",
              "      <td>10.6</td>\n",
              "      <td>42</td>\n",
              "      <td>33</td>\n",
              "      <td>82</td>\n",
              "      <td>86</td>\n",
              "      <td>890.03</td>\n",
              "      <td>111.62</td>\n",
              "    </tr>\n",
              "    <tr>\n",
              "      <th>48</th>\n",
              "      <td>West Virginia</td>\n",
              "      <td>23.8</td>\n",
              "      <td>34</td>\n",
              "      <td>28</td>\n",
              "      <td>97</td>\n",
              "      <td>87</td>\n",
              "      <td>992.61</td>\n",
              "      <td>152.56</td>\n",
              "    </tr>\n",
              "    <tr>\n",
              "      <th>49</th>\n",
              "      <td>Wisconsin</td>\n",
              "      <td>13.8</td>\n",
              "      <td>36</td>\n",
              "      <td>33</td>\n",
              "      <td>39</td>\n",
              "      <td>84</td>\n",
              "      <td>670.31</td>\n",
              "      <td>106.62</td>\n",
              "    </tr>\n",
              "    <tr>\n",
              "      <th>50</th>\n",
              "      <td>Wyoming</td>\n",
              "      <td>17.4</td>\n",
              "      <td>42</td>\n",
              "      <td>32</td>\n",
              "      <td>81</td>\n",
              "      <td>90</td>\n",
              "      <td>791.14</td>\n",
              "      <td>122.04</td>\n",
              "    </tr>\n",
              "  </tbody>\n",
              "</table>\n",
              "</div>"
            ],
            "text/plain": [
              "            State  ...  Losses incurred by insurance companies for collisions per insured driver ($)\n",
              "46       Virginia  ...                                             153.72                           \n",
              "47     Washington  ...                                             111.62                           \n",
              "48  West Virginia  ...                                             152.56                           \n",
              "49      Wisconsin  ...                                             106.62                           \n",
              "50        Wyoming  ...                                             122.04                           \n",
              "\n",
              "[5 rows x 8 columns]"
            ]
          },
          "metadata": {
            "tags": []
          },
          "execution_count": 11
        }
      ]
    },
    {
      "cell_type": "markdown",
      "metadata": {
        "id": "EhAP98gCcuap"
      },
      "source": [
        " **2- Data Summary**"
      ]
    },
    {
      "cell_type": "code",
      "metadata": {
        "id": "tRxITgdJc5PL",
        "outputId": "689b367e-032b-481a-e9a1-1538d3b5bc6d",
        "colab": {
          "base_uri": "https://localhost:8080/",
          "height": 1000
        }
      },
      "source": [
        "# import seaborn and make plots appear inline\n",
        "import seaborn as sns\n",
        "%matplotlib inline\n",
        "\n",
        "# Compute the summary statistics of all columns in the `car_acc` DataFrame\n",
        "sum_stat_car = car_acc.describe()\n",
        "print(sum_stat_car)\n",
        "\n",
        "# Create a pairwise scatter plot to explore the data\n",
        "sns.pairplot(car_acc)"
      ],
      "execution_count": 12,
      "outputs": [
        {
          "output_type": "stream",
          "text": [
            "       Number of drivers involved in fatal collisions per billion miles  ...  Losses incurred by insurance companies for collisions per insured driver ($)\n",
            "count                                          51.000000                 ...                                          51.000000                           \n",
            "mean                                           15.790196                 ...                                         134.493137                           \n",
            "std                                             4.122002                 ...                                          24.835922                           \n",
            "min                                             5.900000                 ...                                          82.750000                           \n",
            "25%                                            12.750000                 ...                                         114.645000                           \n",
            "50%                                            15.600000                 ...                                         136.050000                           \n",
            "75%                                            18.500000                 ...                                         151.870000                           \n",
            "max                                            23.900000                 ...                                         194.780000                           \n",
            "\n",
            "[8 rows x 7 columns]\n"
          ],
          "name": "stdout"
        },
        {
          "output_type": "stream",
          "text": [
            "/usr/local/lib/python3.6/dist-packages/seaborn/axisgrid.py:64: UserWarning: Tight layout not applied. tight_layout cannot make axes width small enough to accommodate all axes decorations\n",
            "  self.fig.tight_layout(*args, **kwargs)\n",
            "/usr/local/lib/python3.6/dist-packages/seaborn/axisgrid.py:64: UserWarning: Tight layout not applied. tight_layout cannot make axes width small enough to accommodate all axes decorations\n",
            "  self.fig.tight_layout(*args, **kwargs)\n"
          ],
          "name": "stderr"
        },
        {
          "output_type": "execute_result",
          "data": {
            "text/plain": [
              "<seaborn.axisgrid.PairGrid at 0x7f835244bcc0>"
            ]
          },
          "metadata": {
            "tags": []
          },
          "execution_count": 12
        },
        {
          "output_type": "display_data",
          "data": {
            "image/png": "[encoded data removed]",
            "text/plain": [
              "<Figure size 1260x1260 with 56 Axes>"
            ]
          },
          "metadata": {
            "tags": [],
            "needs_background": "light"
          }
        }
      ]
    },
    {
      "cell_type": "markdown",
      "metadata": {
        "id": "iG8LBlBkdThJ"
      },
      "source": [
        "**3 - Understand the data** \n",
        "\n",
        "```\n",
        "# This is formatted as code\n",
        "```\n",
        "\n"
      ]
    },
    {
      "cell_type": "code",
      "metadata": {
        "id": "CxIbklMKeAPO",
        "outputId": "45cf3062-3ff6-4762-e416-858cc81f954d",
        "colab": {
          "base_uri": "https://localhost:8080/",
          "height": 521
        }
      },
      "source": [
        "# Compute the correlation coefficent for all column pairs\n",
        "corr_columns = car_acc.corr()\n",
        "corr_columns"
      ],
      "execution_count": 13,
      "outputs": [
        {
          "output_type": "execute_result",
          "data": {
            "text/html": [
              "<div>\n",
              "<style scoped>\n",
              "    .dataframe tbody tr th:only-of-type {\n",
              "        vertical-align: middle;\n",
              "    }\n",
              "\n",
              "    .dataframe tbody tr th {\n",
              "        vertical-align: top;\n",
              "    }\n",
              "\n",
              "    .dataframe thead th {\n",
              "        text-align: right;\n",
              "    }\n",
              "</style>\n",
              "<table border=\"1\" class=\"dataframe\">\n",
              "  <thead>\n",
              "    <tr style=\"text-align: right;\">\n",
              "      <th></th>\n",
              "      <th>Number of drivers involved in fatal collisions per billion miles</th>\n",
              "      <th>Percentage Of Drivers Involved In Fatal Collisions Who Were Speeding</th>\n",
              "      <th>Percentage Of Drivers Involved In Fatal Collisions Who Were Alcohol-Impaired</th>\n",
              "      <th>Percentage Of Drivers Involved In Fatal Collisions Who Were Not Distracted</th>\n",
              "      <th>Percentage Of Drivers Involved In Fatal Collisions Who Had Not Been Involved In Any Previous Accidents</th>\n",
              "      <th>Car Insurance Premiums ($)</th>\n",
              "      <th>Losses incurred by insurance companies for collisions per insured driver ($)</th>\n",
              "    </tr>\n",
              "  </thead>\n",
              "  <tbody>\n",
              "    <tr>\n",
              "      <th>Number of drivers involved in fatal collisions per billion miles</th>\n",
              "      <td>1.000000</td>\n",
              "      <td>-0.029080</td>\n",
              "      <td>0.199426</td>\n",
              "      <td>0.009782</td>\n",
              "      <td>-0.017942</td>\n",
              "      <td>-0.199702</td>\n",
              "      <td>-0.036011</td>\n",
              "    </tr>\n",
              "    <tr>\n",
              "      <th>Percentage Of Drivers Involved In Fatal Collisions Who Were Speeding</th>\n",
              "      <td>-0.029080</td>\n",
              "      <td>1.000000</td>\n",
              "      <td>0.286244</td>\n",
              "      <td>0.131738</td>\n",
              "      <td>0.014066</td>\n",
              "      <td>0.042541</td>\n",
              "      <td>-0.061241</td>\n",
              "    </tr>\n",
              "    <tr>\n",
              "      <th>Percentage Of Drivers Involved In Fatal Collisions Who Were Alcohol-Impaired</th>\n",
              "      <td>0.199426</td>\n",
              "      <td>0.286244</td>\n",
              "      <td>1.000000</td>\n",
              "      <td>0.043380</td>\n",
              "      <td>-0.245455</td>\n",
              "      <td>-0.017451</td>\n",
              "      <td>-0.083916</td>\n",
              "    </tr>\n",
              "    <tr>\n",
              "      <th>Percentage Of Drivers Involved In Fatal Collisions Who Were Not Distracted</th>\n",
              "      <td>0.009782</td>\n",
              "      <td>0.131738</td>\n",
              "      <td>0.043380</td>\n",
              "      <td>1.000000</td>\n",
              "      <td>-0.195265</td>\n",
              "      <td>0.019578</td>\n",
              "      <td>-0.058467</td>\n",
              "    </tr>\n",
              "    <tr>\n",
              "      <th>Percentage Of Drivers Involved In Fatal Collisions Who Had Not Been Involved In Any Previous Accidents</th>\n",
              "      <td>-0.017942</td>\n",
              "      <td>0.014066</td>\n",
              "      <td>-0.245455</td>\n",
              "      <td>-0.195265</td>\n",
              "      <td>1.000000</td>\n",
              "      <td>0.075533</td>\n",
              "      <td>0.042770</td>\n",
              "    </tr>\n",
              "    <tr>\n",
              "      <th>Car Insurance Premiums ($)</th>\n",
              "      <td>-0.199702</td>\n",
              "      <td>0.042541</td>\n",
              "      <td>-0.017451</td>\n",
              "      <td>0.019578</td>\n",
              "      <td>0.075533</td>\n",
              "      <td>1.000000</td>\n",
              "      <td>0.623116</td>\n",
              "    </tr>\n",
              "    <tr>\n",
              "      <th>Losses incurred by insurance companies for collisions per insured driver ($)</th>\n",
              "      <td>-0.036011</td>\n",
              "      <td>-0.061241</td>\n",
              "      <td>-0.083916</td>\n",
              "      <td>-0.058467</td>\n",
              "      <td>0.042770</td>\n",
              "      <td>0.623116</td>\n",
              "      <td>1.000000</td>\n",
              "    </tr>\n",
              "  </tbody>\n",
              "</table>\n",
              "</div>"
            ],
            "text/plain": [
              "                                                    Number of drivers involved in fatal collisions per billion miles  ...  Losses incurred by insurance companies for collisions per insured driver ($)\n",
              "Number of drivers involved in fatal collisions ...                                           1.000000                 ...                                          -0.036011                           \n",
              "Percentage Of Drivers Involved In Fatal Collisi...                                          -0.029080                 ...                                          -0.061241                           \n",
              "Percentage Of Drivers Involved In Fatal Collisi...                                           0.199426                 ...                                          -0.083916                           \n",
              "Percentage Of Drivers Involved In Fatal Collisi...                                           0.009782                 ...                                          -0.058467                           \n",
              "Percentage Of Drivers Involved In Fatal Collisi...                                          -0.017942                 ...                                           0.042770                           \n",
              "Car Insurance Premiums ($)                                                                  -0.199702                 ...                                           0.623116                           \n",
              "Losses incurred by insurance companies for coll...                                          -0.036011                 ...                                           1.000000                           \n",
              "\n",
              "[7 rows x 7 columns]"
            ]
          },
          "metadata": {
            "tags": []
          },
          "execution_count": 13
        }
      ]
    },
    {
      "cell_type": "markdown",
      "metadata": {
        "id": "NlQJjolCeYK2"
      },
      "source": [
        "**** 4- Fit Multivariat Linear Regression** **"
      ]
    },
    {
      "cell_type": "code",
      "metadata": {
        "id": "YNMh7ZMoejyL",
        "outputId": "0ba38a27-ee14-4935-fe01-114b12ef2f32",
        "colab": {
          "base_uri": "https://localhost:8080/"
        }
      },
      "source": [
        "# Import the linear model function from sklearn\n",
        "from sklearn import linear_model\n",
        "\n",
        "# Create the features and target DataFrames\n",
        "features = car_acc[['Percentage Of Drivers Involved In Fatal Collisions Who Were Speeding', 'Percentage Of Drivers Involved In Fatal Collisions Who Were Alcohol-Impaired', 'Percentage Of Drivers Involved In Fatal Collisions Who Had Not Been Involved In Any Previous Accidents']]\n",
        "target = car_acc['Number of drivers involved in fatal collisions per billion miles']\n",
        "\n",
        "# Create a linear regression object\n",
        "reg = linear_model.LinearRegression()\n",
        "\n",
        "# Fit a multivariate linear regression model\n",
        "reg.fit(features, target)\n",
        "\n",
        "# Retrieve the regression coefficients\n",
        "fit_coef = reg.coef_\n",
        "fit_coef"
      ],
      "execution_count": 15,
      "outputs": [
        {
          "output_type": "execute_result",
          "data": {
            "text/plain": [
              "array([-0.04180041,  0.19086404,  0.02473301])"
            ]
          },
          "metadata": {
            "tags": []
          },
          "execution_count": 15
        }
      ]
    },
    {
      "cell_type": "markdown",
      "metadata": {
        "id": "8sb9iHYzfrsL"
      },
      "source": [
        "**5 - Preprocssing**"
      ]
    },
    {
      "cell_type": "code",
      "metadata": {
        "id": "tTLOSABdf6kf",
        "outputId": "951838df-832a-43b3-f104-4852ff6635e7",
        "colab": {
          "base_uri": "https://localhost:8080/",
          "height": 296
        }
      },
      "source": [
        "# Standardize and center the feature columns\n",
        "from sklearn.preprocessing import StandardScaler\n",
        "scaler = StandardScaler()\n",
        "features_scaled = scaler.fit_transform(features)\n",
        "\n",
        "# Import the PCA class from sklearn\n",
        "from sklearn.decomposition import PCA\n",
        "pca = PCA()\n",
        "\n",
        "# Fit the standardized data to the pca\n",
        "pca.fit(features_scaled)\n",
        "\n",
        "# Plot the proportion of variance explained on the y-axis of the bar plot\n",
        "import matplotlib.pyplot as plt\n",
        "plt.bar(range(1, pca.n_components_ + 1),  pca.explained_variance_ratio_)\n",
        "plt.xlabel('Principal component #')\n",
        "plt.ylabel('Proportion of variance explained')\n",
        "plt.xticks([1, 2, 3])\n",
        "\n",
        "# Compute the cumulative proportion of variance explained by the first two principal components\n",
        "two_first_comp_var_exp = pca.explained_variance_ratio_.cumsum()[1]\n",
        "print(\"The cumulative variance of the first two principal componenets is {}\".format(\n",
        "    round(two_first_comp_var_exp, 5)))"
      ],
      "execution_count": 16,
      "outputs": [
        {
          "output_type": "stream",
          "text": [
            "The cumulative variance of the first two principal componenets is 0.7947\n"
          ],
          "name": "stdout"
        },
        {
          "output_type": "display_data",
          "data": {
            "image/png": "[encoded data removed]",
            "text/plain": [
              "<Figure size 432x288 with 1 Axes>"
            ]
          },
          "metadata": {
            "tags": [],
            "needs_background": "light"
          }
        }
      ]
    },
    {
      "cell_type": "markdown",
      "metadata": {
        "id": "hBPaNh1DgHgh"
      },
      "source": [
        "**6 - Visualization**"
      ]
    },
    {
      "cell_type": "code",
      "metadata": {
        "id": "JzQPRKM7gSZf",
        "outputId": "a0ef59d1-f0fc-4e49-b776-0af6d650d1fa",
        "colab": {
          "base_uri": "https://localhost:8080/",
          "height": 282
        }
      },
      "source": [
        "# Transform the scaled features using two principal components\n",
        "pca = PCA(n_components=2)\n",
        "p_comps = pca.fit_transform(features_scaled)\n",
        "\n",
        "# Extract the first and second component to use for the scatter plot\n",
        "p_comp1 = p_comps[:, 0]\n",
        "p_comp2 = p_comps[:, 1]\n",
        "\n",
        "# Plot the first two principal components in a scatter plot\n",
        "plt.scatter(p_comp1, p_comp2)\n",
        "\n"
      ],
      "execution_count": 18,
      "outputs": [
        {
          "output_type": "execute_result",
          "data": {
            "text/plain": [
              "<matplotlib.collections.PathCollection at 0x7f834e3b1588>"
            ]
          },
          "metadata": {
            "tags": []
          },
          "execution_count": 18
        },
        {
          "output_type": "display_data",
          "data": {
            "image/png": "[encoded data removed]",
            "text/plain": [
              "<Figure size 432x288 with 1 Axes>"
            ]
          },
          "metadata": {
            "tags": [],
            "needs_background": "light"
          }
        }
      ]
    },
    {
      "cell_type": "markdown",
      "metadata": {
        "id": "7b7Tb04TgZxv"
      },
      "source": [
        "**7 - Find Cluster in the data**"
      ]
    },
    {
      "cell_type": "code",
      "metadata": {
        "id": "Exivu1yHghJE",
        "outputId": "7b0e32e5-2c0a-4908-ce79-4e14bfc15c8b",
        "colab": {
          "base_uri": "https://localhost:8080/",
          "height": 282
        }
      },
      "source": [
        "# Import KMeans from sklearn\n",
        "from sklearn.cluster import KMeans\n",
        "\n",
        "# A loop will be used to plot the explantory power for up to 10 KMeans clusters\n",
        "ks = range(1, 10)\n",
        "inertias = []\n",
        "for k in ks:\n",
        "    # Initialize the KMeans object using the current number of clusers (k)\n",
        "    km = KMeans(n_clusters=k, random_state=8)\n",
        "    # Fit the scaled scaled features to the KMeans object\n",
        "    km.fit(features_scaled)\n",
        "    # Append the inertia for `km` to the list of inertias\n",
        "    inertias.append(km.inertia_)\n",
        "    \n",
        "# Plot the results in a line plot\n",
        "plt.plot(ks, inertias, marker='o')"
      ],
      "execution_count": 19,
      "outputs": [
        {
          "output_type": "execute_result",
          "data": {
            "text/plain": [
              "[<matplotlib.lines.Line2D at 0x7f834e3f5a90>]"
            ]
          },
          "metadata": {
            "tags": []
          },
          "execution_count": 19
        },
        {
          "output_type": "display_data",
          "data": {
            "image/png": "[encoded data removed]",
            "text/plain": [
              "<Figure size 432x288 with 1 Axes>"
            ]
          },
          "metadata": {
            "tags": [],
            "needs_background": "light"
          }
        }
      ]
    },
    {
      "cell_type": "code",
      "metadata": {
        "id": "UhWGpkKlgxL6",
        "outputId": "41fb2415-d53a-48f9-c9e7-1821e5bd76ed",
        "colab": {
          "base_uri": "https://localhost:8080/",
          "height": 282
        }
      },
      "source": [
        "# Create a KMeans object with 3 clusters \n",
        "km = KMeans(n_clusters=3, random_state=8)\n",
        "# Fit the data to the `km` object\n",
        "km.fit(features_scaled)\n",
        "# Create a scatter plot of the first two principal components\n",
        "# and color it according to the KMeans cluster assignment \n",
        "plt.scatter(p_comps[:, 0], p_comps[:, 1], c=km.labels_)\n",
        "\n"
      ],
      "execution_count": 21,
      "outputs": [
        {
          "output_type": "execute_result",
          "data": {
            "text/plain": [
              "<matplotlib.collections.PathCollection at 0x7f834ba36ba8>"
            ]
          },
          "metadata": {
            "tags": []
          },
          "execution_count": 21
        },
        {
          "output_type": "display_data",
          "data": {
            "image/png": "[encoded data removed]",
            "text/plain": [
              "<Figure size 432x288 with 1 Axes>"
            ]
          },
          "metadata": {
            "tags": [],
            "needs_background": "light"
          }
        }
      ]
    },
    {
      "cell_type": "markdown",
      "metadata": {
        "id": "nqNONyWxg-J0"
      },
      "source": [
        "** 8 - **Visualize the feature differences**"
      ]
    },
    {
      "cell_type": "code",
      "metadata": {
        "id": "PspAIdJBhIZO",
        "outputId": "c4c7ccff-662d-48ba-b495-910882107048",
        "colab": {
          "base_uri": "https://localhost:8080/",
          "height": 296
        }
      },
      "source": [
        "# Create a new column with the labels from the KMeans clustering\n",
        "car_acc['cluster'] = km.labels_\n",
        "\n",
        "# Reshape the DataFrame to the long format\n",
        "melt_car = pd.melt(car_acc, id_vars='cluster', var_name='measurement', value_name='percent',\n",
        "                   value_vars=['Percentage Of Drivers Involved In Fatal Collisions Who Were Speeding', 'Percentage Of Drivers Involved In Fatal Collisions Who Were Alcohol-Impaired', 'Percentage Of Drivers Involved In Fatal Collisions Who Had Not Been Involved In Any Previous Accidents'])\n",
        "\n",
        "# Create a violin plot splitting and coloring the results according to the km-clusters\n",
        "sns.violinplot(y='measurement', x='percent', data=melt_car, hue='cluster')"
      ],
      "execution_count": 23,
      "outputs": [
        {
          "output_type": "execute_result",
          "data": {
            "text/plain": [
              "<matplotlib.axes._subplots.AxesSubplot at 0x7f834b9f6320>"
            ]
          },
          "metadata": {
            "tags": []
          },
          "execution_count": 23
        },
        {
          "output_type": "display_data",
          "data": {
            "image/png": "[encoded data removed]",
            "text/plain": [
              "<Figure size 432x288 with 1 Axes>"
            ]
          },
          "metadata": {
            "tags": [],
            "needs_background": "light"
          }
        }
      ]
    },
    {
      "cell_type": "markdown",
      "metadata": {
        "id": "VbYbzSNBhhvS"
      },
      "source": [
        "Conclusion?"
      ]
    }
  ]
}